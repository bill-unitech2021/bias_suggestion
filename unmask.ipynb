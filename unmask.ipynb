{
 "cells": [
  {
   "cell_type": "code",
   "execution_count": 10,
   "metadata": {},
   "outputs": [],
   "source": [
    "import pandas as pd"
   ]
  },
  {
   "cell_type": "code",
   "execution_count": 11,
   "metadata": {},
   "outputs": [],
   "source": [
    "data = pd.read_csv('modified_annotated_bias_dataset.csv')"
   ]
  },
  {
   "cell_type": "code",
   "execution_count": 12,
   "metadata": {},
   "outputs": [
    {
     "data": {
      "text/html": [
       "<div>\n",
       "<style scoped>\n",
       "    .dataframe tbody tr th:only-of-type {\n",
       "        vertical-align: middle;\n",
       "    }\n",
       "\n",
       "    .dataframe tbody tr th {\n",
       "        vertical-align: top;\n",
       "    }\n",
       "\n",
       "    .dataframe thead th {\n",
       "        text-align: right;\n",
       "    }\n",
       "</style>\n",
       "<table border=\"1\" class=\"dataframe\">\n",
       "  <thead>\n",
       "    <tr style=\"text-align: right;\">\n",
       "      <th></th>\n",
       "      <th>word_labels</th>\n",
       "      <th>sentence</th>\n",
       "      <th>biased_words</th>\n",
       "      <th>biased_labels</th>\n",
       "      <th>masked_sentence</th>\n",
       "    </tr>\n",
       "  </thead>\n",
       "  <tbody>\n",
       "    <tr>\n",
       "      <th>0</th>\n",
       "      <td>O,O,O,O,O,O,O,O,O,O,O,O,O</td>\n",
       "      <td>NaN</td>\n",
       "      <td>NaN</td>\n",
       "      <td>NaN</td>\n",
       "      <td>;- Make formal and interpersonal interpretatio...</td>\n",
       "    </tr>\n",
       "    <tr>\n",
       "      <th>1</th>\n",
       "      <td>O,O,O,O,Behavioural Stereotypes,O,O,O,O,O,O,O,...</td>\n",
       "      <td>The incumbent should be committed personwith s...</td>\n",
       "      <td>committed</td>\n",
       "      <td>Behavioural Stereotypes</td>\n",
       "      <td>The incumbent should be committed personwith s...</td>\n",
       "    </tr>\n",
       "    <tr>\n",
       "      <th>2</th>\n",
       "      <td>O,O,O,O,O,O,O,O,Behavioural Stereotypes,O,O,O,...</td>\n",
       "      <td>The incumbentshould be a quick learner who is ...</td>\n",
       "      <td>committed</td>\n",
       "      <td>Behavioural Stereotypes</td>\n",
       "      <td>The incumbentshould be a quick learner who is ...</td>\n",
       "    </tr>\n",
       "    <tr>\n",
       "      <th>3</th>\n",
       "      <td>O,O,O,O,O,O,O,O,O,O,O,O,O,O,O,O,O</td>\n",
       "      <td>A full time (or part timesee following sentenc...</td>\n",
       "      <td>NaN</td>\n",
       "      <td>NaN</td>\n",
       "      <td>A full time (or part timesee following sentenc...</td>\n",
       "    </tr>\n",
       "    <tr>\n",
       "      <th>4</th>\n",
       "      <td>O,O,O,Behavioural Stereotypes,Behavioural Ster...</td>\n",
       "      <td>They require a confident, well groomed and art...</td>\n",
       "      <td>confident, well groomed</td>\n",
       "      <td>Behavioural Stereotypes, Behavioural Stereotyp...</td>\n",
       "      <td>They require a confident, well groomed and art...</td>\n",
       "    </tr>\n",
       "  </tbody>\n",
       "</table>\n",
       "</div>"
      ],
      "text/plain": [
       "                                         word_labels  \\\n",
       "0                          O,O,O,O,O,O,O,O,O,O,O,O,O   \n",
       "1  O,O,O,O,Behavioural Stereotypes,O,O,O,O,O,O,O,...   \n",
       "2  O,O,O,O,O,O,O,O,Behavioural Stereotypes,O,O,O,...   \n",
       "3                  O,O,O,O,O,O,O,O,O,O,O,O,O,O,O,O,O   \n",
       "4  O,O,O,Behavioural Stereotypes,Behavioural Ster...   \n",
       "\n",
       "                                            sentence             biased_words  \\\n",
       "0                                                NaN                      NaN   \n",
       "1  The incumbent should be committed personwith s...                committed   \n",
       "2  The incumbentshould be a quick learner who is ...                committed   \n",
       "3  A full time (or part timesee following sentenc...                      NaN   \n",
       "4  They require a confident, well groomed and art...  confident, well groomed   \n",
       "\n",
       "                                       biased_labels  \\\n",
       "0                                                NaN   \n",
       "1                            Behavioural Stereotypes   \n",
       "2                            Behavioural Stereotypes   \n",
       "3                                                NaN   \n",
       "4  Behavioural Stereotypes, Behavioural Stereotyp...   \n",
       "\n",
       "                                     masked_sentence  \n",
       "0  ;- Make formal and interpersonal interpretatio...  \n",
       "1  The incumbent should be committed personwith s...  \n",
       "2  The incumbentshould be a quick learner who is ...  \n",
       "3  A full time (or part timesee following sentenc...  \n",
       "4  They require a confident, well groomed and art...  "
      ]
     },
     "execution_count": 12,
     "metadata": {},
     "output_type": "execute_result"
    }
   ],
   "source": [
    "data.head()"
   ]
  },
  {
   "cell_type": "code",
   "execution_count": null,
   "metadata": {},
   "outputs": [],
   "source": []
  }
 ],
 "metadata": {
  "kernelspec": {
   "display_name": "Python 3",
   "language": "python",
   "name": "python3"
  },
  "language_info": {
   "codemirror_mode": {
    "name": "ipython",
    "version": 3
   },
   "file_extension": ".py",
   "mimetype": "text/x-python",
   "name": "python",
   "nbconvert_exporter": "python",
   "pygments_lexer": "ipython3",
   "version": "3.10.8"
  }
 },
 "nbformat": 4,
 "nbformat_minor": 2
}
